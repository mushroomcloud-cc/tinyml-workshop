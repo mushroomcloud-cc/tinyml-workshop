{
 "cells": [
  {
   "cell_type": "code",
   "execution_count": 1,
   "id": "5b90960c",
   "metadata": {},
   "outputs": [],
   "source": [
    "from tinyml import *\n"
   ]
  },
  {
   "cell_type": "code",
   "execution_count": 2,
   "id": "3aa59cd7",
   "metadata": {
    "scrolled": true
   },
   "outputs": [
    {
     "name": "stdout",
     "output_type": "stream",
     "text": [
      "Model: \"sequential\"\n",
      "_________________________________________________________________\n",
      " Layer (type)                Output Shape              Param #   \n",
      "=================================================================\n",
      " dense (Dense)               (None, 32)                23072     \n",
      "                                                                 \n",
      " dense_1 (Dense)             (None, 16)                528       \n",
      "                                                                 \n",
      " dense_2 (Dense)             (None, 2)                 34        \n",
      "                                                                 \n",
      "=================================================================\n",
      "Total params: 23,634\n",
      "Trainable params: 23,634\n",
      "Non-trainable params: 0\n",
      "_________________________________________________________________\n"
     ]
    }
   ],
   "source": [
    "Model = CreateModel()"
   ]
  },
  {
   "cell_type": "code",
   "execution_count": 3,
   "id": "43bcd7b1",
   "metadata": {
    "scrolled": true
   },
   "outputs": [
    {
     "ename": "NameError",
     "evalue": "name 'Train' is not defined",
     "output_type": "error",
     "traceback": [
      "\u001b[1;31m---------------------------------------------------------------------------\u001b[0m",
      "\u001b[1;31mNameError\u001b[0m                                 Traceback (most recent call last)",
      "\u001b[1;32m<ipython-input-3-ec048e20789d>\u001b[0m in \u001b[0;36m<module>\u001b[1;34m\u001b[0m\n\u001b[1;32m----> 1\u001b[1;33m \u001b[0mPrepareModel\u001b[0m\u001b[1;33m(\u001b[0m\u001b[0mModel\u001b[0m\u001b[1;33m)\u001b[0m\u001b[1;33m\u001b[0m\u001b[1;33m\u001b[0m\u001b[0m\n\u001b[0m",
      "\u001b[1;32mD:\\Work\\MushroomCloud\\TinyML\\Code\\Host\\tinyml.py\u001b[0m in \u001b[0;36mPrepareModel\u001b[1;34m(model)\u001b[0m\n\u001b[0;32m     38\u001b[0m     \u001b[1;31m#y_values = np.random.randn(*y_values.shape)\u001b[0m\u001b[1;33m\u001b[0m\u001b[1;33m\u001b[0m\u001b[1;33m\u001b[0m\u001b[0m\n\u001b[0;32m     39\u001b[0m \u001b[1;33m\u001b[0m\u001b[0m\n\u001b[1;32m---> 40\u001b[1;33m     \u001b[0mTrain\u001b[0m\u001b[1;33m(\u001b[0m\u001b[0mmodel\u001b[0m\u001b[1;33m,\u001b[0m \u001b[0mx_values\u001b[0m\u001b[1;33m,\u001b[0m \u001b[0my_values\u001b[0m\u001b[1;33m)\u001b[0m\u001b[1;33m\u001b[0m\u001b[1;33m\u001b[0m\u001b[0m\n\u001b[0m\u001b[0;32m     41\u001b[0m \u001b[1;33m\u001b[0m\u001b[0m\n\u001b[0;32m     42\u001b[0m \u001b[1;33m\u001b[0m\u001b[0m\n",
      "\u001b[1;31mNameError\u001b[0m: name 'Train' is not defined"
     ]
    }
   ],
   "source": [
    "PrepareModel(Model)"
   ]
  },
  {
   "cell_type": "code",
   "execution_count": null,
   "id": "068ca7bd",
   "metadata": {
    "scrolled": true
   },
   "outputs": [],
   "source": [
    "ConvertModel(Model)"
   ]
  },
  {
   "cell_type": "code",
   "execution_count": null,
   "id": "dffe07f9",
   "metadata": {},
   "outputs": [],
   "source": [
    "Hex2H(Model, \"model\")"
   ]
  }
 ],
 "metadata": {
  "interpreter": {
   "hash": "065a7fd65857af9b0d7d7760ab62099efda22ea2fccd7cdd83105fb1a789eaf5"
  },
  "kernelspec": {
   "display_name": "Python 3",
   "language": "python",
   "name": "python3"
  },
  "language_info": {
   "codemirror_mode": {
    "name": "ipython",
    "version": 3
   },
   "file_extension": ".py",
   "mimetype": "text/x-python",
   "name": "python",
   "nbconvert_exporter": "python",
   "pygments_lexer": "ipython3",
   "version": "3.8.10"
  }
 },
 "nbformat": 4,
 "nbformat_minor": 5
}
